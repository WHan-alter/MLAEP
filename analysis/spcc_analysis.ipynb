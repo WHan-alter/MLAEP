{
 "cells": [
  {
   "cell_type": "markdown",
   "metadata": {},
   "source": [
    "# Spearman correlation between prediction score and sampling time"
   ]
  },
  {
   "cell_type": "markdown",
   "metadata": {},
   "source": [
    "This notebook shows the analysis of spearman correlation analysis between model predictions and the real sampling time"
   ]
  },
  {
   "cell_type": "markdown",
   "metadata": {},
   "source": [
    "## Set up analysis"
   ]
  },
  {
   "cell_type": "markdown",
   "metadata": {},
   "source": [
    "### Import python modules"
   ]
  },
  {
   "cell_type": "code",
   "execution_count": 1,
   "metadata": {},
   "outputs": [],
   "source": [
    "import pandas as pd\n",
    "import scipy.stats as ss\n",
    "import seaborn as sns\n",
    "from matplotlib import dates\n",
    "import matplotlib.pyplot as plt\n",
    "import numpy as np"
   ]
  },
  {
   "cell_type": "markdown",
   "metadata": {},
   "source": [
    "### Read in data used"
   ]
  },
  {
   "cell_type": "markdown",
   "metadata": {},
   "source": [
    "Gisaid information from GISAID website https://www.gisaid.org (2022.03.08 release)"
   ]
  },
  {
   "cell_type": "code",
   "execution_count": 2,
   "metadata": {},
   "outputs": [],
   "source": [
    "gisaid_info=pd.read_csv('../data/unique_GISAID.csv',index_col=0,parse_dates=True)"
   ]
  },
  {
   "cell_type": "code",
   "execution_count": 3,
   "metadata": {},
   "outputs": [
    {
     "data": {
      "text/html": [
       "<div>\n",
       "<style scoped>\n",
       "    .dataframe tbody tr th:only-of-type {\n",
       "        vertical-align: middle;\n",
       "    }\n",
       "\n",
       "    .dataframe tbody tr th {\n",
       "        vertical-align: top;\n",
       "    }\n",
       "\n",
       "    .dataframe thead th {\n",
       "        text-align: right;\n",
       "    }\n",
       "</style>\n",
       "<table border=\"1\" class=\"dataframe\">\n",
       "  <thead>\n",
       "    <tr style=\"text-align: right;\">\n",
       "      <th></th>\n",
       "      <th>n_seq</th>\n",
       "      <th>seq</th>\n",
       "      <th>seqlen</th>\n",
       "      <th>gene_id</th>\n",
       "      <th>date</th>\n",
       "      <th>timestamp</th>\n",
       "      <th>host</th>\n",
       "      <th>group</th>\n",
       "      <th>country</th>\n",
       "      <th>continent</th>\n",
       "      <th>dataset</th>\n",
       "      <th>accession</th>\n",
       "    </tr>\n",
       "  </thead>\n",
       "  <tbody>\n",
       "    <tr>\n",
       "      <th>0</th>\n",
       "      <td>602966</td>\n",
       "      <td>NITNLCPFGEVFNATRFASVYAWNRKRISNCVADYSVLYNSASFST...</td>\n",
       "      <td>201</td>\n",
       "      <td>hCoV-19/Wuhan/IPBCAMS-WH-01/2019</td>\n",
       "      <td>2019-12-24</td>\n",
       "      <td>1.577135e+09</td>\n",
       "      <td>human</td>\n",
       "      <td>human</td>\n",
       "      <td>Wuhan</td>\n",
       "      <td>Asia (Eastern)</td>\n",
       "      <td>gisaid</td>\n",
       "      <td>Spike|hCoV-19/Wuhan/IPBCAMS-WH-01/2019|2019-12...</td>\n",
       "    </tr>\n",
       "    <tr>\n",
       "      <th>1</th>\n",
       "      <td>45917</td>\n",
       "      <td>NITNLCPFGEVFNATRFASVYAWNRKRISNCVADYSVLYNSASFST...</td>\n",
       "      <td>201</td>\n",
       "      <td>hCoV-19/Nigeria/CV714/2020</td>\n",
       "      <td>2020-01-01</td>\n",
       "      <td>1.577826e+09</td>\n",
       "      <td>human</td>\n",
       "      <td>human</td>\n",
       "      <td>Nigeria</td>\n",
       "      <td>Africa (Western)</td>\n",
       "      <td>gisaid</td>\n",
       "      <td>Spike|hCoV-19/Nigeria/CV714/2020|2020-00-00|EP...</td>\n",
       "    </tr>\n",
       "    <tr>\n",
       "      <th>2</th>\n",
       "      <td>55547</td>\n",
       "      <td>NITNLCPFGEVFNATRFASVYAWNRKRISNCVADYSVLYNSASFST...</td>\n",
       "      <td>201</td>\n",
       "      <td>hCoV-19/France/PAC-IHU-37302-Nova1M/2020</td>\n",
       "      <td>2020-01-01</td>\n",
       "      <td>1.577826e+09</td>\n",
       "      <td>human</td>\n",
       "      <td>human</td>\n",
       "      <td>France</td>\n",
       "      <td>Europe</td>\n",
       "      <td>gisaid</td>\n",
       "      <td>Spike|hCoV-19/France/PAC-IHU-37302-Nova1M/2020...</td>\n",
       "    </tr>\n",
       "    <tr>\n",
       "      <th>3</th>\n",
       "      <td>26230</td>\n",
       "      <td>NITNLCPFGEVFNATRFASVYAWNRKRISNCVADYSVLYNSASFST...</td>\n",
       "      <td>201</td>\n",
       "      <td>hCoV-19/England/NORT-1B7E6B2/2020</td>\n",
       "      <td>2020-01-01</td>\n",
       "      <td>1.577826e+09</td>\n",
       "      <td>human</td>\n",
       "      <td>human</td>\n",
       "      <td>England</td>\n",
       "      <td>Europe</td>\n",
       "      <td>gisaid</td>\n",
       "      <td>Spike|hCoV-19/England/NORT-1B7E6B2/2020|2020-0...</td>\n",
       "    </tr>\n",
       "    <tr>\n",
       "      <th>4</th>\n",
       "      <td>895810</td>\n",
       "      <td>NITNLCPFGEVFNATRFASVYAWNRKRISNCVADYSVLYNSASFST...</td>\n",
       "      <td>201</td>\n",
       "      <td>hCoV-19/England/PORT-2E44AA/2020</td>\n",
       "      <td>2020-01-01</td>\n",
       "      <td>1.577826e+09</td>\n",
       "      <td>human</td>\n",
       "      <td>human</td>\n",
       "      <td>England</td>\n",
       "      <td>Europe</td>\n",
       "      <td>gisaid</td>\n",
       "      <td>Spike|hCoV-19/England/PORT-2E44AA/2020|2020-00...</td>\n",
       "    </tr>\n",
       "  </tbody>\n",
       "</table>\n",
       "</div>"
      ],
      "text/plain": [
       "    n_seq                                                seq  seqlen  \\\n",
       "0  602966  NITNLCPFGEVFNATRFASVYAWNRKRISNCVADYSVLYNSASFST...     201   \n",
       "1   45917  NITNLCPFGEVFNATRFASVYAWNRKRISNCVADYSVLYNSASFST...     201   \n",
       "2   55547  NITNLCPFGEVFNATRFASVYAWNRKRISNCVADYSVLYNSASFST...     201   \n",
       "3   26230  NITNLCPFGEVFNATRFASVYAWNRKRISNCVADYSVLYNSASFST...     201   \n",
       "4  895810  NITNLCPFGEVFNATRFASVYAWNRKRISNCVADYSVLYNSASFST...     201   \n",
       "\n",
       "                                    gene_id        date     timestamp   host  \\\n",
       "0          hCoV-19/Wuhan/IPBCAMS-WH-01/2019  2019-12-24  1.577135e+09  human   \n",
       "1                hCoV-19/Nigeria/CV714/2020  2020-01-01  1.577826e+09  human   \n",
       "2  hCoV-19/France/PAC-IHU-37302-Nova1M/2020  2020-01-01  1.577826e+09  human   \n",
       "3         hCoV-19/England/NORT-1B7E6B2/2020  2020-01-01  1.577826e+09  human   \n",
       "4          hCoV-19/England/PORT-2E44AA/2020  2020-01-01  1.577826e+09  human   \n",
       "\n",
       "   group  country         continent dataset  \\\n",
       "0  human    Wuhan    Asia (Eastern)  gisaid   \n",
       "1  human  Nigeria  Africa (Western)  gisaid   \n",
       "2  human   France            Europe  gisaid   \n",
       "3  human  England            Europe  gisaid   \n",
       "4  human  England            Europe  gisaid   \n",
       "\n",
       "                                           accession  \n",
       "0  Spike|hCoV-19/Wuhan/IPBCAMS-WH-01/2019|2019-12...  \n",
       "1  Spike|hCoV-19/Nigeria/CV714/2020|2020-00-00|EP...  \n",
       "2  Spike|hCoV-19/France/PAC-IHU-37302-Nova1M/2020...  \n",
       "3  Spike|hCoV-19/England/NORT-1B7E6B2/2020|2020-0...  \n",
       "4  Spike|hCoV-19/England/PORT-2E44AA/2020|2020-00...  "
      ]
     },
     "execution_count": 3,
     "metadata": {},
     "output_type": "execute_result"
    }
   ],
   "source": [
    "gisaid_info.head()"
   ]
  },
  {
   "cell_type": "markdown",
   "metadata": {},
   "source": [
    "Model prediction results for gisaid released samples"
   ]
  },
  {
   "cell_type": "code",
   "execution_count": 4,
   "metadata": {},
   "outputs": [],
   "source": [
    "gisaid_score_df=pd.read_csv('../data/gisaid_score.csv',index_col=0)"
   ]
  },
  {
   "cell_type": "code",
   "execution_count": 5,
   "metadata": {},
   "outputs": [
    {
     "data": {
      "text/html": [
       "<div>\n",
       "<style scoped>\n",
       "    .dataframe tbody tr th:only-of-type {\n",
       "        vertical-align: middle;\n",
       "    }\n",
       "\n",
       "    .dataframe tbody tr th {\n",
       "        vertical-align: top;\n",
       "    }\n",
       "\n",
       "    .dataframe thead th {\n",
       "        text-align: right;\n",
       "    }\n",
       "</style>\n",
       "<table border=\"1\" class=\"dataframe\">\n",
       "  <thead>\n",
       "    <tr style=\"text-align: right;\">\n",
       "      <th></th>\n",
       "      <th>seq</th>\n",
       "      <th>ACE2</th>\n",
       "      <th>COV2-2096</th>\n",
       "      <th>COV2-2832</th>\n",
       "      <th>COV2-2094</th>\n",
       "      <th>COV2-2050</th>\n",
       "      <th>COV2-2677</th>\n",
       "      <th>COV2-2479</th>\n",
       "      <th>COV2-2165</th>\n",
       "      <th>COV2-2499</th>\n",
       "      <th>mean_score</th>\n",
       "      <th>escape_score</th>\n",
       "    </tr>\n",
       "  </thead>\n",
       "  <tbody>\n",
       "    <tr>\n",
       "      <th>0</th>\n",
       "      <td>NITNLCPFGEVFNATRFASVYAWNRKRISNCVADYSVLYNSASFST...</td>\n",
       "      <td>0.471435</td>\n",
       "      <td>0.002486</td>\n",
       "      <td>0.000032</td>\n",
       "      <td>0.000115</td>\n",
       "      <td>0.000071</td>\n",
       "      <td>0.000102</td>\n",
       "      <td>0.000081</td>\n",
       "      <td>0.000116</td>\n",
       "      <td>0.000775</td>\n",
       "      <td>0.052801</td>\n",
       "      <td>0.000472</td>\n",
       "    </tr>\n",
       "    <tr>\n",
       "      <th>1</th>\n",
       "      <td>NITNLCPFGEVFNATRFASVYAWNRKRISNCVADYSVLYNSASFST...</td>\n",
       "      <td>0.995086</td>\n",
       "      <td>0.994998</td>\n",
       "      <td>0.489704</td>\n",
       "      <td>0.003482</td>\n",
       "      <td>0.995438</td>\n",
       "      <td>0.031297</td>\n",
       "      <td>0.944625</td>\n",
       "      <td>0.203610</td>\n",
       "      <td>0.002961</td>\n",
       "      <td>0.517911</td>\n",
       "      <td>0.458264</td>\n",
       "    </tr>\n",
       "    <tr>\n",
       "      <th>2</th>\n",
       "      <td>NITNLCPFGEVFNATRFASVYAWNRKRISNCVADYSVLYNSASFST...</td>\n",
       "      <td>0.973071</td>\n",
       "      <td>0.000499</td>\n",
       "      <td>0.000056</td>\n",
       "      <td>0.000140</td>\n",
       "      <td>0.000096</td>\n",
       "      <td>0.000497</td>\n",
       "      <td>0.000137</td>\n",
       "      <td>0.000251</td>\n",
       "      <td>0.000214</td>\n",
       "      <td>0.108329</td>\n",
       "      <td>0.000236</td>\n",
       "    </tr>\n",
       "    <tr>\n",
       "      <th>3</th>\n",
       "      <td>NITNLCPFGEVFNATRFASVYAWNRKRISNCVADYSVLYNSASFST...</td>\n",
       "      <td>0.687624</td>\n",
       "      <td>0.000463</td>\n",
       "      <td>0.000019</td>\n",
       "      <td>0.000141</td>\n",
       "      <td>0.000200</td>\n",
       "      <td>0.000905</td>\n",
       "      <td>0.000076</td>\n",
       "      <td>0.000083</td>\n",
       "      <td>0.000032</td>\n",
       "      <td>0.076616</td>\n",
       "      <td>0.000240</td>\n",
       "    </tr>\n",
       "    <tr>\n",
       "      <th>4</th>\n",
       "      <td>NITNLCPFGEVFNATRFASVYAWNRKRISNCVADYSVLYNSASFST...</td>\n",
       "      <td>0.997554</td>\n",
       "      <td>0.001372</td>\n",
       "      <td>0.000285</td>\n",
       "      <td>0.000176</td>\n",
       "      <td>0.000545</td>\n",
       "      <td>0.001456</td>\n",
       "      <td>0.000778</td>\n",
       "      <td>0.001115</td>\n",
       "      <td>0.000133</td>\n",
       "      <td>0.111491</td>\n",
       "      <td>0.000733</td>\n",
       "    </tr>\n",
       "  </tbody>\n",
       "</table>\n",
       "</div>"
      ],
      "text/plain": [
       "                                                 seq      ACE2  COV2-2096  \\\n",
       "0  NITNLCPFGEVFNATRFASVYAWNRKRISNCVADYSVLYNSASFST...  0.471435   0.002486   \n",
       "1  NITNLCPFGEVFNATRFASVYAWNRKRISNCVADYSVLYNSASFST...  0.995086   0.994998   \n",
       "2  NITNLCPFGEVFNATRFASVYAWNRKRISNCVADYSVLYNSASFST...  0.973071   0.000499   \n",
       "3  NITNLCPFGEVFNATRFASVYAWNRKRISNCVADYSVLYNSASFST...  0.687624   0.000463   \n",
       "4  NITNLCPFGEVFNATRFASVYAWNRKRISNCVADYSVLYNSASFST...  0.997554   0.001372   \n",
       "\n",
       "   COV2-2832  COV2-2094  COV2-2050  COV2-2677  COV2-2479  COV2-2165  \\\n",
       "0   0.000032   0.000115   0.000071   0.000102   0.000081   0.000116   \n",
       "1   0.489704   0.003482   0.995438   0.031297   0.944625   0.203610   \n",
       "2   0.000056   0.000140   0.000096   0.000497   0.000137   0.000251   \n",
       "3   0.000019   0.000141   0.000200   0.000905   0.000076   0.000083   \n",
       "4   0.000285   0.000176   0.000545   0.001456   0.000778   0.001115   \n",
       "\n",
       "   COV2-2499  mean_score  escape_score  \n",
       "0   0.000775    0.052801      0.000472  \n",
       "1   0.002961    0.517911      0.458264  \n",
       "2   0.000214    0.108329      0.000236  \n",
       "3   0.000032    0.076616      0.000240  \n",
       "4   0.000133    0.111491      0.000733  "
      ]
     },
     "execution_count": 5,
     "metadata": {},
     "output_type": "execute_result"
    }
   ],
   "source": [
    "gisaid_score_df[\"escape_score\"]=gisaid_score_df.iloc[:,2:-1].mean(axis=1)\n",
    "gisaid_score_df.head()"
   ]
  },
  {
   "cell_type": "code",
   "execution_count": 6,
   "metadata": {},
   "outputs": [
    {
     "data": {
      "text/html": [
       "<div>\n",
       "<style scoped>\n",
       "    .dataframe tbody tr th:only-of-type {\n",
       "        vertical-align: middle;\n",
       "    }\n",
       "\n",
       "    .dataframe tbody tr th {\n",
       "        vertical-align: top;\n",
       "    }\n",
       "\n",
       "    .dataframe thead th {\n",
       "        text-align: right;\n",
       "    }\n",
       "</style>\n",
       "<table border=\"1\" class=\"dataframe\">\n",
       "  <thead>\n",
       "    <tr style=\"text-align: right;\">\n",
       "      <th></th>\n",
       "      <th>seq</th>\n",
       "      <th>ACE2</th>\n",
       "      <th>COV2-2096</th>\n",
       "      <th>COV2-2832</th>\n",
       "      <th>COV2-2094</th>\n",
       "      <th>COV2-2050</th>\n",
       "      <th>COV2-2677</th>\n",
       "      <th>COV2-2479</th>\n",
       "      <th>COV2-2165</th>\n",
       "      <th>COV2-2499</th>\n",
       "      <th>...</th>\n",
       "      <th>seq</th>\n",
       "      <th>seqlen</th>\n",
       "      <th>gene_id</th>\n",
       "      <th>timestamp</th>\n",
       "      <th>host</th>\n",
       "      <th>group</th>\n",
       "      <th>country</th>\n",
       "      <th>continent</th>\n",
       "      <th>dataset</th>\n",
       "      <th>accession</th>\n",
       "    </tr>\n",
       "    <tr>\n",
       "      <th>date</th>\n",
       "      <th></th>\n",
       "      <th></th>\n",
       "      <th></th>\n",
       "      <th></th>\n",
       "      <th></th>\n",
       "      <th></th>\n",
       "      <th></th>\n",
       "      <th></th>\n",
       "      <th></th>\n",
       "      <th></th>\n",
       "      <th></th>\n",
       "      <th></th>\n",
       "      <th></th>\n",
       "      <th></th>\n",
       "      <th></th>\n",
       "      <th></th>\n",
       "      <th></th>\n",
       "      <th></th>\n",
       "      <th></th>\n",
       "      <th></th>\n",
       "      <th></th>\n",
       "    </tr>\n",
       "  </thead>\n",
       "  <tbody>\n",
       "    <tr>\n",
       "      <th>2010-12-06</th>\n",
       "      <td>NITNLCPFGEVFNATTFASVYAWNRRRISNCVADYSVLYNTTSFST...</td>\n",
       "      <td>0.003066</td>\n",
       "      <td>0.999999</td>\n",
       "      <td>0.649814</td>\n",
       "      <td>0.985170</td>\n",
       "      <td>0.998501</td>\n",
       "      <td>0.953067</td>\n",
       "      <td>0.972279</td>\n",
       "      <td>0.240445</td>\n",
       "      <td>0.999999</td>\n",
       "      <td>...</td>\n",
       "      <td>NITNLCPFGEVFNATTFASVYAWNRRRISNCVADYSVLYNTTSFST...</td>\n",
       "      <td>201</td>\n",
       "      <td>hCoV-19/bat/Cambodia/RShSTT200/2010</td>\n",
       "      <td>1.291583e+09</td>\n",
       "      <td>bat</td>\n",
       "      <td>bat</td>\n",
       "      <td>NaN</td>\n",
       "      <td>NaN</td>\n",
       "      <td>gisaid</td>\n",
       "      <td>Spike|hCoV-19/bat/Cambodia/RShSTT200/2010|2010...</td>\n",
       "    </tr>\n",
       "    <tr>\n",
       "      <th>2013-07-24</th>\n",
       "      <td>NITNLCPFGEVFNATTFASVYAWNRKRISNCVADYSVLYNSTSFST...</td>\n",
       "      <td>0.003949</td>\n",
       "      <td>1.000000</td>\n",
       "      <td>0.881905</td>\n",
       "      <td>0.982258</td>\n",
       "      <td>0.999790</td>\n",
       "      <td>0.901730</td>\n",
       "      <td>0.996157</td>\n",
       "      <td>0.442574</td>\n",
       "      <td>0.999985</td>\n",
       "      <td>...</td>\n",
       "      <td>NITNLCPFGEVFNATTFASVYAWNRKRISNCVADYSVLYNSTSFST...</td>\n",
       "      <td>201</td>\n",
       "      <td>hCoV-19/bat/Yunnan/RaTG13/2013</td>\n",
       "      <td>1.374613e+09</td>\n",
       "      <td>bat</td>\n",
       "      <td>bat</td>\n",
       "      <td>NaN</td>\n",
       "      <td>NaN</td>\n",
       "      <td>gisaid</td>\n",
       "      <td>Spike|hCoV-19/bat/Yunnan/RaTG13/2013|2013-07-2...</td>\n",
       "    </tr>\n",
       "    <tr>\n",
       "      <th>2017-01-01</th>\n",
       "      <td>NITNLCPFGEVFNASKFASVYAWNRKRISNCVADYSVLYNSTSFST...</td>\n",
       "      <td>0.002775</td>\n",
       "      <td>0.999992</td>\n",
       "      <td>0.973799</td>\n",
       "      <td>0.997651</td>\n",
       "      <td>0.999956</td>\n",
       "      <td>0.995204</td>\n",
       "      <td>0.998776</td>\n",
       "      <td>0.833033</td>\n",
       "      <td>0.999696</td>\n",
       "      <td>...</td>\n",
       "      <td>NITNLCPFGEVFNASKFASVYAWNRKRISNCVADYSVLYNSTSFST...</td>\n",
       "      <td>201</td>\n",
       "      <td>hCoV-19/pangolin/Guangxi/P5E/2017</td>\n",
       "      <td>1.483218e+09</td>\n",
       "      <td>pangolin</td>\n",
       "      <td>pangolin</td>\n",
       "      <td>NaN</td>\n",
       "      <td>NaN</td>\n",
       "      <td>gisaid</td>\n",
       "      <td>Spike|hCoV-19/pangolin/Guangxi/P5E/2017|2017-0...</td>\n",
       "    </tr>\n",
       "    <tr>\n",
       "      <th>2017-01-01</th>\n",
       "      <td>NITNLCPFGEVFNASKFASVYAWNRKRISNCVADYSVLYNSTSFST...</td>\n",
       "      <td>0.004105</td>\n",
       "      <td>0.999996</td>\n",
       "      <td>0.969132</td>\n",
       "      <td>0.999136</td>\n",
       "      <td>0.999966</td>\n",
       "      <td>0.998627</td>\n",
       "      <td>0.998738</td>\n",
       "      <td>0.826423</td>\n",
       "      <td>0.999868</td>\n",
       "      <td>...</td>\n",
       "      <td>NITNLCPFGEVFNASKFASVYAWNRKRISNCVADYSVLYNSTSFST...</td>\n",
       "      <td>201</td>\n",
       "      <td>hCoV-19/pangolin/Guangxi/P4L/2017</td>\n",
       "      <td>1.483218e+09</td>\n",
       "      <td>pangolin</td>\n",
       "      <td>pangolin</td>\n",
       "      <td>NaN</td>\n",
       "      <td>NaN</td>\n",
       "      <td>gisaid</td>\n",
       "      <td>Spike|hCoV-19/pangolin/Guangxi/P4L/2017|2017-0...</td>\n",
       "    </tr>\n",
       "    <tr>\n",
       "      <th>2017-01-01</th>\n",
       "      <td>NITNLCPFGEVFNASKFASVYAWNRKRISNCVADYSVLYNSTSFST...</td>\n",
       "      <td>0.007859</td>\n",
       "      <td>0.999998</td>\n",
       "      <td>0.984774</td>\n",
       "      <td>0.997605</td>\n",
       "      <td>0.999970</td>\n",
       "      <td>0.994916</td>\n",
       "      <td>0.999429</td>\n",
       "      <td>0.880455</td>\n",
       "      <td>0.999941</td>\n",
       "      <td>...</td>\n",
       "      <td>NITNLCPFGEVFNASKFASVYAWNRKRISNCVADYSVLYNSTSFST...</td>\n",
       "      <td>201</td>\n",
       "      <td>hCoV-19/pangolin/Guangxi/P1E/2017</td>\n",
       "      <td>1.483218e+09</td>\n",
       "      <td>pangolin</td>\n",
       "      <td>pangolin</td>\n",
       "      <td>NaN</td>\n",
       "      <td>NaN</td>\n",
       "      <td>gisaid</td>\n",
       "      <td>Spike|hCoV-19/pangolin/Guangxi/P1E/2017|2017-0...</td>\n",
       "    </tr>\n",
       "  </tbody>\n",
       "</table>\n",
       "<p>5 rows × 23 columns</p>\n",
       "</div>"
      ],
      "text/plain": [
       "                                                          seq      ACE2  \\\n",
       "date                                                                      \n",
       "2010-12-06  NITNLCPFGEVFNATTFASVYAWNRRRISNCVADYSVLYNTTSFST...  0.003066   \n",
       "2013-07-24  NITNLCPFGEVFNATTFASVYAWNRKRISNCVADYSVLYNSTSFST...  0.003949   \n",
       "2017-01-01  NITNLCPFGEVFNASKFASVYAWNRKRISNCVADYSVLYNSTSFST...  0.002775   \n",
       "2017-01-01  NITNLCPFGEVFNASKFASVYAWNRKRISNCVADYSVLYNSTSFST...  0.004105   \n",
       "2017-01-01  NITNLCPFGEVFNASKFASVYAWNRKRISNCVADYSVLYNSTSFST...  0.007859   \n",
       "\n",
       "            COV2-2096  COV2-2832  COV2-2094  COV2-2050  COV2-2677  COV2-2479  \\\n",
       "date                                                                           \n",
       "2010-12-06   0.999999   0.649814   0.985170   0.998501   0.953067   0.972279   \n",
       "2013-07-24   1.000000   0.881905   0.982258   0.999790   0.901730   0.996157   \n",
       "2017-01-01   0.999992   0.973799   0.997651   0.999956   0.995204   0.998776   \n",
       "2017-01-01   0.999996   0.969132   0.999136   0.999966   0.998627   0.998738   \n",
       "2017-01-01   0.999998   0.984774   0.997605   0.999970   0.994916   0.999429   \n",
       "\n",
       "            COV2-2165  COV2-2499  ...  \\\n",
       "date                              ...   \n",
       "2010-12-06   0.240445   0.999999  ...   \n",
       "2013-07-24   0.442574   0.999985  ...   \n",
       "2017-01-01   0.833033   0.999696  ...   \n",
       "2017-01-01   0.826423   0.999868  ...   \n",
       "2017-01-01   0.880455   0.999941  ...   \n",
       "\n",
       "                                                          seq  seqlen  \\\n",
       "date                                                                    \n",
       "2010-12-06  NITNLCPFGEVFNATTFASVYAWNRRRISNCVADYSVLYNTTSFST...     201   \n",
       "2013-07-24  NITNLCPFGEVFNATTFASVYAWNRKRISNCVADYSVLYNSTSFST...     201   \n",
       "2017-01-01  NITNLCPFGEVFNASKFASVYAWNRKRISNCVADYSVLYNSTSFST...     201   \n",
       "2017-01-01  NITNLCPFGEVFNASKFASVYAWNRKRISNCVADYSVLYNSTSFST...     201   \n",
       "2017-01-01  NITNLCPFGEVFNASKFASVYAWNRKRISNCVADYSVLYNSTSFST...     201   \n",
       "\n",
       "                                        gene_id     timestamp      host  \\\n",
       "date                                                                      \n",
       "2010-12-06  hCoV-19/bat/Cambodia/RShSTT200/2010  1.291583e+09       bat   \n",
       "2013-07-24       hCoV-19/bat/Yunnan/RaTG13/2013  1.374613e+09       bat   \n",
       "2017-01-01    hCoV-19/pangolin/Guangxi/P5E/2017  1.483218e+09  pangolin   \n",
       "2017-01-01    hCoV-19/pangolin/Guangxi/P4L/2017  1.483218e+09  pangolin   \n",
       "2017-01-01    hCoV-19/pangolin/Guangxi/P1E/2017  1.483218e+09  pangolin   \n",
       "\n",
       "               group  country continent dataset  \\\n",
       "date                                              \n",
       "2010-12-06       bat      NaN       NaN  gisaid   \n",
       "2013-07-24       bat      NaN       NaN  gisaid   \n",
       "2017-01-01  pangolin      NaN       NaN  gisaid   \n",
       "2017-01-01  pangolin      NaN       NaN  gisaid   \n",
       "2017-01-01  pangolin      NaN       NaN  gisaid   \n",
       "\n",
       "                                                    accession  \n",
       "date                                                           \n",
       "2010-12-06  Spike|hCoV-19/bat/Cambodia/RShSTT200/2010|2010...  \n",
       "2013-07-24  Spike|hCoV-19/bat/Yunnan/RaTG13/2013|2013-07-2...  \n",
       "2017-01-01  Spike|hCoV-19/pangolin/Guangxi/P5E/2017|2017-0...  \n",
       "2017-01-01  Spike|hCoV-19/pangolin/Guangxi/P4L/2017|2017-0...  \n",
       "2017-01-01  Spike|hCoV-19/pangolin/Guangxi/P1E/2017|2017-0...  \n",
       "\n",
       "[5 rows x 23 columns]"
      ]
     },
     "execution_count": 6,
     "metadata": {},
     "output_type": "execute_result"
    }
   ],
   "source": [
    "gisaid_info=pd.concat([gisaid_score_df,gisaid_info],axis=1)\n",
    "date_index = list(gisaid_info.columns).index('date')\n",
    "gisaid_info[\"date\"] = pd.to_datetime(gisaid_info[\"date\"])\n",
    "gisaid_info=gisaid_info.sort_values(\"date\").set_index(\"date\")\n",
    "gisaid_info.head()"
   ]
  },
  {
   "cell_type": "markdown",
   "metadata": {},
   "source": [
    "## Spearman Correlation analysis based on time"
   ]
  },
  {
   "cell_type": "markdown",
   "metadata": {},
   "source": [
    "### 3 Month interval "
   ]
  },
  {
   "cell_type": "code",
   "execution_count": 45,
   "metadata": {},
   "outputs": [],
   "source": [
    "perid=pd.date_range('2020-02-01','2022-02-01',freq=\"MS\")"
   ]
  },
  {
   "cell_type": "code",
   "execution_count": 46,
   "metadata": {},
   "outputs": [],
   "source": [
    "spcc_mean_score=[]\n",
    "spcc_escape=[]\n",
    "spcc_ace=[]\n",
    "for edt in perid:\n",
    "    df=gisaid_info.loc[edt - pd.tseries.offsets.DateOffset(months=3):edt, ['mean_score','timestamp','ACE2','escape_score']]\n",
    "    spcc_mean_score.append(ss.spearmanr(df[\"mean_score\"],df[\"timestamp\"])[0])\n",
    "    spcc_escape.append(ss.spearmanr(df[\"escape_score\"],df[\"timestamp\"])[0])\n",
    "    spcc_ace.append(ss.spearmanr(df[\"ACE2\"],df[\"timestamp\"])[0])"
   ]
  },
  {
   "cell_type": "code",
   "execution_count": 47,
   "metadata": {},
   "outputs": [
    {
     "data": {
      "text/html": [
       "<div>\n",
       "<style scoped>\n",
       "    .dataframe tbody tr th:only-of-type {\n",
       "        vertical-align: middle;\n",
       "    }\n",
       "\n",
       "    .dataframe tbody tr th {\n",
       "        vertical-align: top;\n",
       "    }\n",
       "\n",
       "    .dataframe thead th {\n",
       "        text-align: right;\n",
       "    }\n",
       "</style>\n",
       "<table border=\"1\" class=\"dataframe\">\n",
       "  <thead>\n",
       "    <tr style=\"text-align: right;\">\n",
       "      <th></th>\n",
       "      <th>overall_score</th>\n",
       "      <th>immnue_escape</th>\n",
       "      <th>ACE2_binding</th>\n",
       "    </tr>\n",
       "  </thead>\n",
       "  <tbody>\n",
       "    <tr>\n",
       "      <th>2020-02-01</th>\n",
       "      <td>-0.164497</td>\n",
       "      <td>-0.118128</td>\n",
       "      <td>-0.116609</td>\n",
       "    </tr>\n",
       "    <tr>\n",
       "      <th>2020-03-01</th>\n",
       "      <td>0.002781</td>\n",
       "      <td>0.198886</td>\n",
       "      <td>-0.223859</td>\n",
       "    </tr>\n",
       "    <tr>\n",
       "      <th>2020-04-01</th>\n",
       "      <td>-0.154946</td>\n",
       "      <td>-0.019201</td>\n",
       "      <td>-0.172753</td>\n",
       "    </tr>\n",
       "    <tr>\n",
       "      <th>2020-05-01</th>\n",
       "      <td>-0.058837</td>\n",
       "      <td>-0.013664</td>\n",
       "      <td>-0.082465</td>\n",
       "    </tr>\n",
       "    <tr>\n",
       "      <th>2020-06-01</th>\n",
       "      <td>0.009344</td>\n",
       "      <td>0.030126</td>\n",
       "      <td>-0.081807</td>\n",
       "    </tr>\n",
       "  </tbody>\n",
       "</table>\n",
       "</div>"
      ],
      "text/plain": [
       "            overall_score  immnue_escape  ACE2_binding\n",
       "2020-02-01      -0.164497      -0.118128     -0.116609\n",
       "2020-03-01       0.002781       0.198886     -0.223859\n",
       "2020-04-01      -0.154946      -0.019201     -0.172753\n",
       "2020-05-01      -0.058837      -0.013664     -0.082465\n",
       "2020-06-01       0.009344       0.030126     -0.081807"
      ]
     },
     "execution_count": 47,
     "metadata": {},
     "output_type": "execute_result"
    }
   ],
   "source": [
    "spcc_df=pd.DataFrame({\"overall_score\":spcc_mean_score,\"immnue_escape\":spcc_escape,\"ACE2_binding\":spcc_ace},index=perid)\n",
    "spcc_df.head()"
   ]
  },
  {
   "cell_type": "code",
   "execution_count": 48,
   "metadata": {},
   "outputs": [
    {
     "data": {
      "text/plain": [
       "Text(0, 0.5, 'Spearman Correlation')"
      ]
     },
     "execution_count": 48,
     "metadata": {},
     "output_type": "execute_result"
    },
    {
     "data": {
      "image/png": "[encoded data removed]",
      "text/plain": [
       "<Figure size 648x360 with 1 Axes>"
      ]
     },
     "metadata": {
      "needs_background": "light"
     },
     "output_type": "display_data"
    }
   ],
   "source": [
    "plt.figure(figsize=(9,5))\n",
    "ax=sns.lineplot(data=spcc_df,linewidth=3,dashes=False,palette=[\"#be88a2\",\"#6199be\",\"#c2bb85\"])\n",
    "ax.tick_params(axis='x', rotation=90)\n",
    "ax.xaxis.set_major_locator(dates.MonthLocator(bymonth=(1,2,3,4,5,6,7,8,9,10,11,12)))\n",
    "#ax.xaxis.set_major_formatter(dates.DateFormatter(\"%b-%y\"))\n",
    "ax.xaxis.set_major_formatter(dates.DateFormatter(\"%m-%y\"))\n",
    "plt.xticks(perid)\n",
    "ax.legend(labels=[\"Average score\",\"Immune escape\",\"ACE2 binding\"],fontsize=13)\n",
    "ax.set_ylabel(ylabel=\"Spearman Correlation\",fontsize=13)\n",
    "#plt.savefig('figures/spcc_3M.png',dpi=500)\n"
   ]
  },
  {
   "cell_type": "markdown",
   "metadata": {},
   "source": [
    "### 6 Month interval "
   ]
  },
  {
   "cell_type": "code",
   "execution_count": 49,
   "metadata": {},
   "outputs": [],
   "source": [
    "perid=pd.date_range('2020-06-01','2022-02-01',freq=\"MS\")"
   ]
  },
  {
   "cell_type": "code",
   "execution_count": 50,
   "metadata": {},
   "outputs": [],
   "source": [
    "spcc_mean_score=[]\n",
    "spcc_escape=[]\n",
    "spcc_ace=[]\n",
    "for edt in perid:\n",
    "    df=gisaid_info.loc[edt - pd.tseries.offsets.DateOffset(months=6):edt, ['mean_score','timestamp','ACE2','escape_score']]\n",
    "    spcc_mean_score.append(ss.spearmanr(df[\"mean_score\"],df[\"timestamp\"])[0])\n",
    "    spcc_escape.append(ss.spearmanr(df[\"escape_score\"],df[\"timestamp\"])[0])\n",
    "    spcc_ace.append(ss.spearmanr(df[\"ACE2\"],df[\"timestamp\"])[0])"
   ]
  },
  {
   "cell_type": "code",
   "execution_count": 51,
   "metadata": {},
   "outputs": [],
   "source": [
    "spcc_df=pd.DataFrame({\"overall_score\":spcc_mean_score,\"immnue_escape\":spcc_escape,\"ACE2_binding\":spcc_ace},index=perid)"
   ]
  },
  {
   "cell_type": "code",
   "execution_count": 52,
   "metadata": {},
   "outputs": [
    {
     "data": {
      "text/plain": [
       "Text(0, 0.5, 'Spearman Correlation')"
      ]
     },
     "execution_count": 52,
     "metadata": {},
     "output_type": "execute_result"
    },
    {
     "data": {
      "image/png": "[encoded data removed]",
      "text/plain": [
       "<Figure size 648x360 with 1 Axes>"
      ]
     },
     "metadata": {
      "needs_background": "light"
     },
     "output_type": "display_data"
    }
   ],
   "source": [
    "plt.figure(figsize=(9,5))\n",
    "ax=sns.lineplot(data=spcc_df,linewidth=3,dashes=False,palette=[\"#be88a2\",\"#6199be\",\"#c2bb85\"])\n",
    "ax.tick_params(axis='x', rotation=90)\n",
    "ax.xaxis.set_major_locator(dates.MonthLocator(bymonth=(1,2,3,4,5,6,7,8,9,10,11,12)))\n",
    "ax.xaxis.set_major_formatter(dates.DateFormatter(\"%m-%y\"))\n",
    "plt.xticks(perid)\n",
    "ax.legend(labels=[\"Average score\",\"Immune escape\",\"ACE2 binding\"],fontsize=13)\n",
    "ax.set_ylabel(ylabel=\"Spearman Correlation\",fontsize=13)\n",
    "#plt.savefig('figures/spcc_6M.png',dpi=500)\n"
   ]
  },
  {
   "cell_type": "markdown",
   "metadata": {},
   "source": [
    "### 12 Month interval "
   ]
  },
  {
   "cell_type": "code",
   "execution_count": 53,
   "metadata": {},
   "outputs": [],
   "source": [
    "perid=pd.date_range('2020-12-01','2022-02-01',freq=\"MS\")"
   ]
  },
  {
   "cell_type": "code",
   "execution_count": 54,
   "metadata": {},
   "outputs": [],
   "source": [
    "spcc_mean_score=[]\n",
    "spcc_escape=[]\n",
    "spcc_ace=[]\n",
    "for edt in perid:\n",
    "    df=gisaid_info.loc[edt - pd.tseries.offsets.DateOffset(months=12):edt, ['mean_score','timestamp','ACE2','escape_score']]\n",
    "    spcc_mean_score.append(ss.spearmanr(df[\"mean_score\"],df[\"timestamp\"])[0])\n",
    "    spcc_escape.append(ss.spearmanr(df[\"escape_score\"],df[\"timestamp\"])[0])\n",
    "    spcc_ace.append(ss.spearmanr(df[\"ACE2\"],df[\"timestamp\"])[0])"
   ]
  },
  {
   "cell_type": "code",
   "execution_count": 55,
   "metadata": {},
   "outputs": [],
   "source": [
    "spcc_df=pd.DataFrame({\"overall_score\":spcc_mean_score,\"immnue_escape\":spcc_escape,\"ACE2_binding\":spcc_ace},index=perid)"
   ]
  },
  {
   "cell_type": "code",
   "execution_count": 56,
   "metadata": {},
   "outputs": [
    {
     "data": {
      "text/plain": [
       "Text(0, 0.5, 'Spearman Correlation')"
      ]
     },
     "execution_count": 56,
     "metadata": {},
     "output_type": "execute_result"
    },
    {
     "data": {
      "image/png": "[encoded data removed]",
      "text/plain": [
       "<Figure size 648x360 with 1 Axes>"
      ]
     },
     "metadata": {
      "needs_background": "light"
     },
     "output_type": "display_data"
    }
   ],
   "source": [
    "plt.figure(figsize=(9,5))\n",
    "ax=sns.lineplot(data=spcc_df,linewidth=3,dashes=False,palette=[\"#be88a2\",\"#6199be\",\"#c2bb85\"])\n",
    "ax.tick_params(axis='x', rotation=90)\n",
    "ax.xaxis.set_major_locator(dates.MonthLocator(bymonth=(1,2,3,4,5,6,7,8,9,10,11,12)))\n",
    "ax.xaxis.set_major_formatter(dates.DateFormatter(\"%m-%y\"))\n",
    "plt.xticks(perid)\n",
    "ax.legend(labels=[\"Average score\",\"Immune escape\",\"ACE2 binding\"],fontsize=13)\n",
    "ax.set_ylabel(ylabel=\"Spearman Correlation\",fontsize=13)\n",
    "#plt.savefig('figures/spcc_12M.png',dpi=500)\n"
   ]
  },
  {
   "cell_type": "markdown",
   "metadata": {},
   "source": [
    "## Spearman correlation of all the data"
   ]
  },
  {
   "cell_type": "code",
   "execution_count": 7,
   "metadata": {},
   "outputs": [
    {
     "data": {
      "text/plain": [
       "SpearmanrResult(correlation=0.6489587198744415, pvalue=0.0)"
      ]
     },
     "execution_count": 7,
     "metadata": {},
     "output_type": "execute_result"
    }
   ],
   "source": [
    "ss.spearmanr(gisaid_info[\"mean_score\"],gisaid_info[\"timestamp\"])"
   ]
  },
  {
   "cell_type": "code",
   "execution_count": 8,
   "metadata": {},
   "outputs": [
    {
     "data": {
      "text/plain": [
       "SpearmanrResult(correlation=0.6696720400220084, pvalue=0.0)"
      ]
     },
     "execution_count": 8,
     "metadata": {},
     "output_type": "execute_result"
    }
   ],
   "source": [
    "ss.spearmanr(gisaid_info[\"escape_score\"],gisaid_info[\"timestamp\"])"
   ]
  }
 ],
 "metadata": {
  "interpreter": {
   "hash": "e5403bd6fae07f7a16f7af28e8cd922d30b05ce0abdec05205bb01e19b6c8d16"
  },
  "kernelspec": {
   "display_name": "Python 3.8.5 ('base')",
   "language": "python",
   "name": "python3"
  },
  "language_info": {
   "codemirror_mode": {
    "name": "ipython",
    "version": 3
   },
   "file_extension": ".py",
   "mimetype": "text/x-python",
   "name": "python",
   "nbconvert_exporter": "python",
   "pygments_lexer": "ipython3",
   "version": "3.8.5"
  },
  "orig_nbformat": 4
 },
 "nbformat": 4,
 "nbformat_minor": 2
}
