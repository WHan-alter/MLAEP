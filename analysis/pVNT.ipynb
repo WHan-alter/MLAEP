{
 "cells": [
  {
   "cell_type": "markdown",
   "metadata": {},
   "source": [
    "# pseudovirus neutralisation test (pVNT)"
   ]
  },
  {
   "cell_type": "markdown",
   "metadata": {},
   "source": [
    "This notebook used the data of observed reduction of neutralising antibody response in pseudovirus neutralisation assay from Beguir et al. to validate the immune escape score predicted by our model."
   ]
  },
  {
   "cell_type": "markdown",
   "metadata": {},
   "source": [
    "## Set up analysis"
   ]
  },
  {
   "cell_type": "markdown",
   "metadata": {},
   "source": [
    "### Import python modules"
   ]
  },
  {
   "cell_type": "code",
   "execution_count": 11,
   "metadata": {},
   "outputs": [],
   "source": [
    "import pandas as pd\n",
    "import seaborn as sns\n",
    "import matplotlib.pylab as plt\n",
    "import scipy.stats as ss\n",
    "from adjustText import adjust_text"
   ]
  },
  {
   "cell_type": "markdown",
   "metadata": {},
   "source": [
    "### Read in data "
   ]
  },
  {
   "cell_type": "markdown",
   "metadata": {},
   "source": [
    "This data can be downloaded from Table S.3. of Beguir et al. \n",
    "The preprint is available: https://www.biorxiv.org/content/10.1101/2021.12.24.474095v1.full"
   ]
  },
  {
   "cell_type": "code",
   "execution_count": 2,
   "metadata": {},
   "outputs": [],
   "source": [
    "pVNT=pd.read_csv('../data/pVNT.csv')"
   ]
  },
  {
   "cell_type": "code",
   "execution_count": 3,
   "metadata": {},
   "outputs": [
    {
     "data": {
      "text/html": [
       "<div>\n",
       "<style scoped>\n",
       "    .dataframe tbody tr th:only-of-type {\n",
       "        vertical-align: middle;\n",
       "    }\n",
       "\n",
       "    .dataframe tbody tr th {\n",
       "        vertical-align: top;\n",
       "    }\n",
       "\n",
       "    .dataframe thead th {\n",
       "        text-align: right;\n",
       "    }\n",
       "</style>\n",
       "<table border=\"1\" class=\"dataframe\">\n",
       "  <thead>\n",
       "    <tr style=\"text-align: right;\">\n",
       "      <th></th>\n",
       "      <th>Lineage</th>\n",
       "      <th>WHO</th>\n",
       "      <th>Mutation</th>\n",
       "      <th>Reduction</th>\n",
       "    </tr>\n",
       "  </thead>\n",
       "  <tbody>\n",
       "    <tr>\n",
       "      <th>0</th>\n",
       "      <td>B.1.1.7</td>\n",
       "      <td>Alpha</td>\n",
       "      <td>N501Y</td>\n",
       "      <td>22.92</td>\n",
       "    </tr>\n",
       "    <tr>\n",
       "      <th>1</th>\n",
       "      <td>B.1.1.7+E484K</td>\n",
       "      <td>Alpha</td>\n",
       "      <td>E484K;N501Y</td>\n",
       "      <td>74.65</td>\n",
       "    </tr>\n",
       "    <tr>\n",
       "      <th>2</th>\n",
       "      <td>B.1.351</td>\n",
       "      <td>Beta</td>\n",
       "      <td>K417N;E484K;N501Y</td>\n",
       "      <td>47.19</td>\n",
       "    </tr>\n",
       "    <tr>\n",
       "      <th>3</th>\n",
       "      <td>P.1</td>\n",
       "      <td>Gamma</td>\n",
       "      <td>K417T;E484K;N501Y</td>\n",
       "      <td>47.66</td>\n",
       "    </tr>\n",
       "    <tr>\n",
       "      <th>4</th>\n",
       "      <td>B.1.617.2</td>\n",
       "      <td>Delta</td>\n",
       "      <td>K417N;L452R;T478K</td>\n",
       "      <td>49.43</td>\n",
       "    </tr>\n",
       "  </tbody>\n",
       "</table>\n",
       "</div>"
      ],
      "text/plain": [
       "         Lineage   WHO            Mutation  Reduction\n",
       "0        B.1.1.7  Alpha              N501Y      22.92\n",
       "1  B.1.1.7+E484K  Alpha        E484K;N501Y      74.65\n",
       "2        B.1.351   Beta  K417N;E484K;N501Y      47.19\n",
       "3            P.1  Gamma  K417T;E484K;N501Y      47.66\n",
       "4      B.1.617.2  Delta  K417N;L452R;T478K      49.43"
      ]
     },
     "execution_count": 3,
     "metadata": {},
     "output_type": "execute_result"
    }
   ],
   "source": [
    "pVNT.head()"
   ]
  },
  {
   "cell_type": "markdown",
   "metadata": {},
   "source": [
    "Obtain scores based on the sequences"
   ]
  },
  {
   "cell_type": "code",
   "execution_count": 5,
   "metadata": {},
   "outputs": [],
   "source": [
    "with open(\"../data/Covid19_RBD_seq.txt\", \"r\") as f:  \n",
    "    seq = f.read() "
   ]
  },
  {
   "cell_type": "code",
   "execution_count": 6,
   "metadata": {},
   "outputs": [],
   "source": [
    "def get_seq(m_list,sequence):\n",
    "    for row in m_list:\n",
    "        _, idx, mt = row[0], int(row[1:-1])-331, row[-1]\n",
    "        sequence = sequence[:idx] + mt + sequence[(idx + 1) :]\n",
    "    return(sequence)"
   ]
  },
  {
   "cell_type": "code",
   "execution_count": 7,
   "metadata": {},
   "outputs": [],
   "source": [
    "pVNT[\"seq\"]=pVNT.apply(\n",
    "        lambda row : get_seq(row[\"Mutation\"].split(\";\"),seq),axis=1\n",
    "        )"
   ]
  },
  {
   "cell_type": "code",
   "execution_count": 9,
   "metadata": {},
   "outputs": [],
   "source": [
    "## get the score\n",
    "gisaid_score=pd.read_csv('../data/gisaid_score.csv',index_col=0)\n",
    "gisaid_score[\"escape_score\"]=gisaid_score.iloc[:,2:10].mean(axis=1)\n",
    "seq_cache=gisaid_score.set_index('seq')[\"escape_score\"].to_dict()\n",
    "pVNT[\"score\"]=pVNT.seq.map(seq_cache)"
   ]
  },
  {
   "cell_type": "code",
   "execution_count": 10,
   "metadata": {},
   "outputs": [
    {
     "data": {
      "text/html": [
       "<div>\n",
       "<style scoped>\n",
       "    .dataframe tbody tr th:only-of-type {\n",
       "        vertical-align: middle;\n",
       "    }\n",
       "\n",
       "    .dataframe tbody tr th {\n",
       "        vertical-align: top;\n",
       "    }\n",
       "\n",
       "    .dataframe thead th {\n",
       "        text-align: right;\n",
       "    }\n",
       "</style>\n",
       "<table border=\"1\" class=\"dataframe\">\n",
       "  <thead>\n",
       "    <tr style=\"text-align: right;\">\n",
       "      <th></th>\n",
       "      <th>Lineage</th>\n",
       "      <th>WHO</th>\n",
       "      <th>Mutation</th>\n",
       "      <th>Reduction</th>\n",
       "      <th>seq</th>\n",
       "      <th>score</th>\n",
       "    </tr>\n",
       "  </thead>\n",
       "  <tbody>\n",
       "    <tr>\n",
       "      <th>0</th>\n",
       "      <td>B.1.1.7</td>\n",
       "      <td>Alpha</td>\n",
       "      <td>N501Y</td>\n",
       "      <td>22.92</td>\n",
       "      <td>NITNLCPFGEVFNATRFASVYAWNRKRISNCVADYSVLYNSASFST...</td>\n",
       "      <td>0.000733</td>\n",
       "    </tr>\n",
       "    <tr>\n",
       "      <th>1</th>\n",
       "      <td>B.1.1.7+E484K</td>\n",
       "      <td>Alpha</td>\n",
       "      <td>E484K;N501Y</td>\n",
       "      <td>74.65</td>\n",
       "      <td>NITNLCPFGEVFNATRFASVYAWNRKRISNCVADYSVLYNSASFST...</td>\n",
       "      <td>0.454673</td>\n",
       "    </tr>\n",
       "    <tr>\n",
       "      <th>2</th>\n",
       "      <td>B.1.351</td>\n",
       "      <td>Beta</td>\n",
       "      <td>K417N;E484K;N501Y</td>\n",
       "      <td>47.19</td>\n",
       "      <td>NITNLCPFGEVFNATRFASVYAWNRKRISNCVADYSVLYNSASFST...</td>\n",
       "      <td>0.606424</td>\n",
       "    </tr>\n",
       "    <tr>\n",
       "      <th>3</th>\n",
       "      <td>P.1</td>\n",
       "      <td>Gamma</td>\n",
       "      <td>K417T;E484K;N501Y</td>\n",
       "      <td>47.66</td>\n",
       "      <td>NITNLCPFGEVFNATRFASVYAWNRKRISNCVADYSVLYNSASFST...</td>\n",
       "      <td>0.566062</td>\n",
       "    </tr>\n",
       "    <tr>\n",
       "      <th>4</th>\n",
       "      <td>B.1.617.2</td>\n",
       "      <td>Delta</td>\n",
       "      <td>K417N;L452R;T478K</td>\n",
       "      <td>49.43</td>\n",
       "      <td>NITNLCPFGEVFNATRFASVYAWNRKRISNCVADYSVLYNSASFST...</td>\n",
       "      <td>0.200867</td>\n",
       "    </tr>\n",
       "  </tbody>\n",
       "</table>\n",
       "</div>"
      ],
      "text/plain": [
       "         Lineage   WHO            Mutation  Reduction  \\\n",
       "0        B.1.1.7  Alpha              N501Y      22.92   \n",
       "1  B.1.1.7+E484K  Alpha        E484K;N501Y      74.65   \n",
       "2        B.1.351   Beta  K417N;E484K;N501Y      47.19   \n",
       "3            P.1  Gamma  K417T;E484K;N501Y      47.66   \n",
       "4      B.1.617.2  Delta  K417N;L452R;T478K      49.43   \n",
       "\n",
       "                                                 seq     score  \n",
       "0  NITNLCPFGEVFNATRFASVYAWNRKRISNCVADYSVLYNSASFST...  0.000733  \n",
       "1  NITNLCPFGEVFNATRFASVYAWNRKRISNCVADYSVLYNSASFST...  0.454673  \n",
       "2  NITNLCPFGEVFNATRFASVYAWNRKRISNCVADYSVLYNSASFST...  0.606424  \n",
       "3  NITNLCPFGEVFNATRFASVYAWNRKRISNCVADYSVLYNSASFST...  0.566062  \n",
       "4  NITNLCPFGEVFNATRFASVYAWNRKRISNCVADYSVLYNSASFST...  0.200867  "
      ]
     },
     "execution_count": 10,
     "metadata": {},
     "output_type": "execute_result"
    }
   ],
   "source": [
    "pVNT.head()"
   ]
  },
  {
   "cell_type": "markdown",
   "metadata": {},
   "source": [
    "## plot"
   ]
  },
  {
   "cell_type": "code",
   "execution_count": 12,
   "metadata": {},
   "outputs": [],
   "source": [
    "sns.set(rc={'figure.figsize':(5.5,5.5)})\n",
    "sns.set_theme(style=\"white\")"
   ]
  },
  {
   "cell_type": "code",
   "execution_count": 13,
   "metadata": {},
   "outputs": [
    {
     "data": {
      "text/plain": [
       "Text(15.0, 0.5, 'pVNT50 Reduction %')"
      ]
     },
     "execution_count": 13,
     "metadata": {},
     "output_type": "execute_result"
    },
    {
     "data": {
      "image/png": "[encoded data removed]",
      "text/plain": [
       "<Figure size 396x396 with 1 Axes>"
      ]
     },
     "metadata": {},
     "output_type": "display_data"
    }
   ],
   "source": [
    "fig, ax = plt.subplots()\n",
    "ax.set_xlim([-0.1,1])\n",
    "sns.regplot(x=\"score\",y=\"Reduction\",data=pVNT,ci=None,ax=ax,truncate=False,line_kws={\"alpha\":0.5,\"linestyle\":'--'})\n",
    "texts=[]\n",
    "for idx,row in pVNT.iterrows():\n",
    "    x = row[\"score\"]\n",
    "    y = row[\"Reduction\"]\n",
    "    text = row[\"Lineage\"]\n",
    "    texts.append(plt.text(x,y,text,horizontalalignment='right',verticalalignment='bottom',fontsize=10))\n",
    "adjust_text(texts)\n",
    "ax.set_xlabel(\"Average Escape Score\")\n",
    "ax.set_ylabel(\"pVNT50 Reduction %\")\n",
    "#plt.savefig('figures/pVNT_figure.png',dpi=500)"
   ]
  },
  {
   "cell_type": "markdown",
   "metadata": {},
   "source": [
    "Spearman Correlation"
   ]
  },
  {
   "cell_type": "code",
   "execution_count": 14,
   "metadata": {},
   "outputs": [
    {
     "data": {
      "text/plain": [
       "SpearmanrResult(correlation=0.7178571428571427, pvalue=0.002581165308218854)"
      ]
     },
     "execution_count": 14,
     "metadata": {},
     "output_type": "execute_result"
    }
   ],
   "source": [
    "ss.spearmanr(pVNT.Reduction,pVNT.score)"
   ]
  },
  {
   "cell_type": "markdown",
   "metadata": {},
   "source": [
    "Pearson Correlation"
   ]
  },
  {
   "cell_type": "code",
   "execution_count": 15,
   "metadata": {},
   "outputs": [
    {
     "data": {
      "text/plain": [
       "(0.7584216899498254, 0.0010481600539293816)"
      ]
     },
     "execution_count": 15,
     "metadata": {},
     "output_type": "execute_result"
    }
   ],
   "source": [
    "ss.pearsonr(pVNT.Reduction,pVNT.score)"
   ]
  }
 ],
 "metadata": {
  "interpreter": {
   "hash": "e5403bd6fae07f7a16f7af28e8cd922d30b05ce0abdec05205bb01e19b6c8d16"
  },
  "kernelspec": {
   "display_name": "Python 3.8.5 ('base')",
   "language": "python",
   "name": "python3"
  },
  "language_info": {
   "codemirror_mode": {
    "name": "ipython",
    "version": 3
   },
   "file_extension": ".py",
   "mimetype": "text/x-python",
   "name": "python",
   "nbconvert_exporter": "python",
   "pygments_lexer": "ipython3",
   "version": "3.8.5"
  },
  "orig_nbformat": 4
 },
 "nbformat": 4,
 "nbformat_minor": 2
}
